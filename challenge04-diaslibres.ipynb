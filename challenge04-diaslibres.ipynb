{
 "cells": [
  {
   "cell_type": "code",
   "execution_count": null,
   "id": "1da2b487",
   "metadata": {},
   "outputs": [],
   "source": [
    "# crear una clase 'Peluche'\n",
    "    # crear un metodo constructor init. Recibe parametro 'nombre' , 'tamaño'\n",
    "        # crear atributo de instancia nombre\n",
    "        # crear atributo de instancia tamaño\n",
    "    \n",
    "    # crear metodo 'abrazar'\n",
    "        # mostrar mensaje \"¡Es hora de abrazar a [nombre], mi peluche de tamaño [tamaño]!\"\n",
    "\n",
    "# MAIN\n",
    "# crear un objeto de la Clase peluche\n",
    "# con el objeto peluche llamar al metodo 'abrazar'\n"
   ]
  },
  {
   "cell_type": "code",
   "execution_count": 1,
   "id": "4f1ca982",
   "metadata": {},
   "outputs": [
    {
     "name": "stdout",
     "output_type": "stream",
     "text": [
      "¡Es hora de abrazar a pepito, mi peluche de tamaño mediano!\n"
     ]
    }
   ],
   "source": [
    "class Peluche:\n",
    "    def __init__(self, nombre, tamaño):\n",
    "        self.nombre = nombre\n",
    "        self.tamaño = tamaño\n",
    "    \n",
    "    def abrazar(self):\n",
    "        print(f\"¡Es hora de abrazar a {self.nombre}, mi peluche de tamaño {self.tamaño}!\")\n",
    "        \n",
    "# MAIN\n",
    "osito = Peluche('pepito', 'mediano')\n",
    "osito.abrazar()\n",
    "        \n",
    "        "
   ]
  }
 ],
 "metadata": {
  "kernelspec": {
   "display_name": "Python 3",
   "language": "python",
   "name": "python3"
  },
  "language_info": {
   "codemirror_mode": {
    "name": "ipython",
    "version": 3
   },
   "file_extension": ".py",
   "mimetype": "text/x-python",
   "name": "python",
   "nbconvert_exporter": "python",
   "pygments_lexer": "ipython3",
   "version": "3.13.2"
  }
 },
 "nbformat": 4,
 "nbformat_minor": 5
}
