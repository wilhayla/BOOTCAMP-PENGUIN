{
 "cells": [
  {
   "cell_type": "code",
   "execution_count": 1,
   "id": "269124c0",
   "metadata": {},
   "outputs": [
    {
     "name": "stdout",
     "output_type": "stream",
     "text": [
      "Hola mundo\n"
     ]
    }
   ],
   "source": [
    "print('Hola mundo')"
   ]
  },
  {
   "cell_type": "markdown",
   "id": "08afad0f",
   "metadata": {},
   "source": [
    "## Variables\n",
    "Las variables on espacios en memoria de la computadora en los ccuales podemos guardar datos durante la ejecucion de nuestro programa."
   ]
  },
  {
   "cell_type": "code",
   "execution_count": 3,
   "id": "a08ee7a6",
   "metadata": {},
   "outputs": [
    {
     "name": "stdout",
     "output_type": "stream",
     "text": [
      "William\n",
      "Haywood\n"
     ]
    }
   ],
   "source": [
    "nombre = 'William'\n",
    "apellido = 'Haywood'\n",
    "\n",
    "print(nombre)\n",
    "print(apellido)"
   ]
  },
  {
   "cell_type": "code",
   "execution_count": 5,
   "id": "fc6b9b46",
   "metadata": {},
   "outputs": [
    {
     "name": "stdout",
     "output_type": "stream",
     "text": [
      "manzana\n",
      "5\n",
      "naranja\n"
     ]
    }
   ],
   "source": [
    "frutas = 'manzana'\n",
    "print(frutas)\n",
    "cantidad_de_frutas = 5\n",
    "print(cantidad_de_frutas)\n",
    "frutas = 'naranja'\n",
    "print(frutas)"
   ]
  },
  {
   "cell_type": "code",
   "execution_count": 8,
   "id": "053e2ffe",
   "metadata": {},
   "outputs": [
    {
     "name": "stdout",
     "output_type": "stream",
     "text": [
      "('naranja', 'pera')\n",
      "('naranja', 'pera')\n"
     ]
    }
   ],
   "source": [
    "print(frutas)\n",
    "frutas = 'naranja', 'pera'\n",
    "print(frutas)"
   ]
  },
  {
   "cell_type": "markdown",
   "id": "5e14bc97",
   "metadata": {},
   "source": [
    "## Tipo de datos\n",
    "\n",
    "- int - integer - 1\n",
    "- float - floatin - 1.2\n",
    "- str - string - 'William' o \"William\"\n",
    "- bool - boolean - True or False\n"
   ]
  },
  {
   "cell_type": "code",
   "execution_count": null,
   "id": "bf7fa6cf",
   "metadata": {},
   "outputs": [
    {
     "name": "stdout",
     "output_type": "stream",
     "text": [
      "\"William\"\n"
     ]
    }
   ],
   "source": [
    "numero = 132424\n",
    "numero_decimal = 1.2\n",
    "nombre = '\"William\"' \n",
    "cajon_abierto = False\n",
    "print(nombre)"
   ]
  },
  {
   "cell_type": "markdown",
   "id": "a47628cb",
   "metadata": {},
   "source": [
    "## Operaciones aritmeticas\n",
    "Tambien podemos realizar operaciones matematicas, como las calculadoreas. python lle la cuenta de izquierda a derecha y sigue reglas de precedencia como en las matematicas.\n",
    "\n",
    "SUMA +\n",
    "RESTA -\n",
    "DIVISION /   devuelve valor decimal\n",
    "MULTIPLICACION *\n",
    "DIVISION //  devuelve valor entero"
   ]
  },
  {
   "cell_type": "code",
   "execution_count": null,
   "id": "5b5ff433",
   "metadata": {},
   "outputs": [
    {
     "name": "stdout",
     "output_type": "stream",
     "text": [
      "35000\n",
      "30000\n",
      "76000\n",
      "5066.666666666667\n"
     ]
    }
   ],
   "source": [
    "# Suma dos numeros\n",
    "precio_total = 15000 + 20000\n",
    "print(precio_total)\n",
    "\n",
    "# Resto un numero para un descuento\n",
    "precio_descuento = precio_total - 5000\n",
    "print(precio_descuento)\n",
    "\n",
    "# Datos\n",
    "precio_gaseosa = 19000\n",
    "cantidad_gaseosa = 4\n",
    "cantidad_personas = 15\n",
    "\n",
    "# Calculamos el costo total\n",
    "costo_total = precio_gaseosa * cantidad_gaseosa\n",
    "print(costo_total)\n",
    "\n",
    "# Calculamos cuanto cuesta por persona.\n",
    "precio_por_persona = costo_total / cantidad_personas\n",
    "print(precio_por_persona)\n"
   ]
  },
  {
   "cell_type": "markdown",
   "id": "6255a171",
   "metadata": {},
   "source": [
    "## Challenge 01\n",
    "Suma: asignar dos numeros en dos variables diferentes, cantidad_de_manzanas y cantiad_de_naranjas. Luego sumar ambas variables en cantidad_de_frutas. Imprimir la lultima variable.\n",
    "\n",
    "Resta: asignar un valor numerico a la variable frutas_vendidas. Luego, asignar la resta entre cantidad_de_frutas y frutas_vendidas a la variable frutas_vendidas a la variable frutas_restantes. Imprimir la ultima variable."
   ]
  },
  {
   "cell_type": "code",
   "execution_count": 18,
   "id": "1a9edcf7",
   "metadata": {},
   "outputs": [
    {
     "name": "stdout",
     "output_type": "stream",
     "text": [
      "40\n",
      "30\n"
     ]
    }
   ],
   "source": [
    "# definimos dos variables\n",
    "cantidad_de_manzanas = 25\n",
    "cantidad_de_naranjas = 15\n",
    "\n",
    "# sumamos la cantidad de frutas total\n",
    "cantidad_de_frutas = cantidad_de_manzanas + cantidad_de_naranjas\n",
    "\n",
    "# mostramos en pantalla la cantidad total de frutas\n",
    "print(cantidad_de_frutas)\n",
    "\n",
    "# asignamos en una variable cantidad de frutas vendidas\n",
    "frutas_vendidas = 10\n",
    "\n",
    "# Canculamos cuantas frutas quedan luego de haberlas vendidas\n",
    "frutas_restantes = cantidad_de_frutas - frutas_vendidas\n",
    "\n",
    "# mostramos en pantalla cuantas frutas quedaron luego de haberlas vendido\n",
    "print(frutas_restantes)"
   ]
  },
  {
   "cell_type": "code",
   "execution_count": 23,
   "id": "f9292e34",
   "metadata": {},
   "outputs": [
    {
     "name": "stdout",
     "output_type": "stream",
     "text": [
      "William Haywood\n",
      "William  Haywood\n",
      "Hola mi nombre es William  Haywood\n",
      "Mi nombre es: William  Haywood\n",
      "Hola, mi nombre es William Haywood\n"
     ]
    }
   ],
   "source": [
    "# concatenacion\n",
    "\n",
    "nombre = 'William '\n",
    "apellido = 'Haywood'\n",
    "\n",
    "nombre_completo = nombre + apellido\n",
    "print(nombre_completo)\n",
    "print(nombre + ' ' + apellido)\n",
    "\n",
    "print('Hola mi nombre es' + ' ' + nombre + ' ' + apellido)\n",
    "\n",
    "print(f'Mi nombre es: {nombre} {apellido}')\n",
    "\n",
    "print('Hola, mi nombre es', nombre_completo)\n",
    "\n"
   ]
  },
  {
   "cell_type": "markdown",
   "id": "51070888",
   "metadata": {},
   "source": [
    "## Challenge 02\n",
    "\n",
    "Asignar el nombre y el apellido de tu companero a las variables nombre y apellido. Luego, imprimir una frase, utilizando las variables. Ejemplo: 'Hola. Me llamo Claudia Melgarejo. Mucho gusto.'"
   ]
  },
  {
   "cell_type": "code",
   "execution_count": 1,
   "id": "b6c8ed6f",
   "metadata": {},
   "outputs": [
    {
     "name": "stdout",
     "output_type": "stream",
     "text": [
      "Hola. Me llamo Vero Gaona. Mucho gusto.\n"
     ]
    }
   ],
   "source": [
    "nombre = 'Vero'\n",
    "apellido = 'Gaona'\n",
    "\n",
    "print(f'Hola. Me llamo {nombre} {apellido}. Mucho gusto.')"
   ]
  },
  {
   "cell_type": "code",
   "execution_count": null,
   "id": "dc55b1fe",
   "metadata": {},
   "outputs": [
    {
     "name": "stdout",
     "output_type": "stream",
     "text": [
      "1\n",
      "11\n"
     ]
    }
   ],
   "source": [
    "nombre = input('Cual es tu nombre: ')\n",
    "print(nombre)\n",
    "\n",
    "numero1 = input('dame un numero')\n",
    "numero2 = input('dame otro numero')\n",
    "suma = numero1 + numero2\n",
    "print(suma)\n",
    "type(suma)"
   ]
  },
  {
   "cell_type": "code",
   "execution_count": 4,
   "id": "96765cc3",
   "metadata": {},
   "outputs": [
    {
     "name": "stdout",
     "output_type": "stream",
     "text": [
      "2\n"
     ]
    },
    {
     "data": {
      "text/plain": [
       "int"
      ]
     },
     "execution_count": 4,
     "metadata": {},
     "output_type": "execute_result"
    }
   ],
   "source": [
    "numero1 = int(input('dame un numero'))\n",
    "numero2 = int(input('dame otro numero'))\n",
    "suma = numero1 + numero2\n",
    "print(suma)\n",
    "type(suma)"
   ]
  },
  {
   "cell_type": "code",
   "execution_count": null,
   "id": "d1d2d189",
   "metadata": {},
   "outputs": [
    {
     "name": "stdout",
     "output_type": "stream",
     "text": [
      "La suma de los dos numeros es 20\n"
     ]
    }
   ],
   "source": [
    "numero1 = int(input('Ingrese el primer numero: '))\n",
    "numero2 = int(input('Ingrese el segundo numero: '))\n",
    "\n",
    "suma = numero1 + numero2\n",
    "print(f'La suma de los dos numeros es {suma}')\n"
   ]
  },
  {
   "cell_type": "markdown",
   "id": "3589a80e",
   "metadata": {},
   "source": [
    "## FUNCIONES\n",
    "\n",
    "Es un bloque de codigo reutilizable que agrupa una serie de instrucciones para realizar una tarea espesifica."
   ]
  },
  {
   "cell_type": "code",
   "execution_count": 1,
   "id": "961348b1",
   "metadata": {},
   "outputs": [
    {
     "name": "stdout",
     "output_type": "stream",
     "text": [
      "Abrir el pan\n",
      "Agregar jamon\n",
      "Agregar queso\n",
      "Cerrar pan\n",
      "Listo\n"
     ]
    }
   ],
   "source": [
    "def preparar_sandwinch():\n",
    "    print('Abrir el pan')\n",
    "    print('Agregar jamon')\n",
    "    print('Agregar queso')\n",
    "    print('Cerrar pan')\n",
    "    print('Listo')\n",
    "\n",
    "preparar_sandwinch()"
   ]
  },
  {
   "cell_type": "markdown",
   "id": "b12328e6",
   "metadata": {},
   "source": [
    "## Challenge 03\n",
    "\n",
    "Crear una funcion de un proceso que se les ocurra que tenga varios pasos. Ejecutar la funcion 3 veces."
   ]
  },
  {
   "cell_type": "code",
   "execution_count": null,
   "id": "ded98a87",
   "metadata": {},
   "outputs": [
    {
     "name": "stdout",
     "output_type": "stream",
     "text": [
      "Buscar el libro\n",
      "Abrir el libro\n",
      "Empezar a leer\n",
      "Marco con un senalador donde me quede\n",
      "Cierro el libro\n",
      "Guardo el libro\n",
      "-------------------------------------------------------\n",
      "Buscar el libro\n",
      "Abrir el libro\n",
      "Empezar a leer\n",
      "Marco con un senalador donde me quede\n",
      "Cierro el libro\n",
      "Guardo el libro\n",
      "-------------------------------------------------------\n",
      "Buscar el libro\n",
      "Abrir el libro\n",
      "Empezar a leer\n",
      "Marco con un senalador donde me quede\n",
      "Cierro el libro\n",
      "Guardo el libro\n"
     ]
    }
   ],
   "source": [
    "def leer():\n",
    "    print('Buscar el libro')\n",
    "    print('Abrir el libro')\n",
    "    print('Hojear')\n",
    "    print('Marco con un senalador donde me quede')\n",
    "    print('Cierro el libro')\n",
    "    print('Guardo el libro')\n",
    "\n",
    "leer()\n",
    "print('-------------------------------------------------------')\n",
    "leer()\n",
    "print('-------------------------------------------------------')\n",
    "leer()"
   ]
  },
  {
   "cell_type": "markdown",
   "id": "b2e374e6",
   "metadata": {},
   "source": [
    "## Parametros y argumentos\n",
    "Un parametro es el nombre que aparece en la definicion de una funcion y actua como una 'variable local' que recibira un valor cuando la funcion sea invocada. Ese valor que se pasa al llamar la funcion se llama argumento.\n",
    "\n",
    "Los parametros permiten que una misma funcion trabaje con diferentes datos sin cambiar el codigo. Asi se evita repetir logica y se favorece la reutilizacion.\n"
   ]
  },
  {
   "cell_type": "code",
   "execution_count": null,
   "id": "8eaac8e8",
   "metadata": {},
   "outputs": [
    {
     "name": "stdout",
     "output_type": "stream",
     "text": [
      "Abrir el pan\n",
      "agregar  huevo\n",
      "Cerrar pan\n",
      "Listo\n",
      " \n",
      "Abrir el pan\n",
      "agregar  tomate y lechuga\n",
      "Cerrar pan\n",
      "Listo\n",
      " \n"
     ]
    }
   ],
   "source": [
    "def preparar_sandwinch(ingrediente):    # (ingrediente) es el parametro que recive los argumentos al llamar la funcion\n",
    "    print('Abrir el pan')\n",
    "    print(f'agregar  {ingrediente}')\n",
    "    print('Cerrar pan')\n",
    "    print('Listo')\n",
    "    print(' ')\n",
    "\n",
    "preparar_sandwinch('huevo')    # 'huevo' es el argumento que se pasa a la funcion\n",
    "preparar_sandwinch('tomate y lechuga')  # 'tomate y lechuga' es el argumento que se pasa a la funcion"
   ]
  },
  {
   "cell_type": "markdown",
   "id": "12596a99",
   "metadata": {},
   "source": [
    "## Challenge 04\n",
    "Escribir una funcion agregando las caracteristicas de un elemento a comprar e imprima el elemento con sus caracterirsticas.\n"
   ]
  },
  {
   "cell_type": "code",
   "execution_count": null,
   "id": "dce01710",
   "metadata": {},
   "outputs": [
    {
     "name": "stdout",
     "output_type": "stream",
     "text": [
      "Mi vehiculo tiene las siguientes caracteristicas. Es camioneta, rojo, alta\n"
     ]
    }
   ],
   "source": [
    "def elemento_auto(caracteristicas):\n",
    "    print(f'Mi vehiculo tiene las siguientes caracteristicas. Es {caracteristicas}')\n",
    "    \n",
    "\n",
    "elemento_auto('camioneta, rojo, alta.')\n",
    "\n",
    "\n"
   ]
  }
 ],
 "metadata": {
  "kernelspec": {
   "display_name": "Python 3",
   "language": "python",
   "name": "python3"
  },
  "language_info": {
   "codemirror_mode": {
    "name": "ipython",
    "version": 3
   },
   "file_extension": ".py",
   "mimetype": "text/x-python",
   "name": "python",
   "nbconvert_exporter": "python",
   "pygments_lexer": "ipython3",
   "version": "3.13.3"
  }
 },
 "nbformat": 4,
 "nbformat_minor": 5
}
