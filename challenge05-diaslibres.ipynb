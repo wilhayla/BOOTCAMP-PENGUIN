{
 "cells": [
  {
   "cell_type": "code",
   "execution_count": null,
   "id": "a486c9ee",
   "metadata": {},
   "outputs": [],
   "source": [
    "# crear una funcion 'multiplicar_listas'. Recibe parametro lista.\n",
    "    # crear una variable producto igual a 1 (varible acumulador)\n",
    "    # para numero en la lista\n",
    "        # producto *= numero\n",
    "        # retornar producto\n",
    "        \n",
    "# MAIN\n",
    "# crear una lista con numeros como elementos\n",
    "# varible total_producto es igual a llamar a la funcion 'multiplicar_listas(parametro lista)'. \n",
    "# mostar en pantalla la variable total_producto\n"
   ]
  },
  {
   "cell_type": "code",
   "execution_count": 6,
   "id": "810ac596",
   "metadata": {},
   "outputs": [
    {
     "name": "stdout",
     "output_type": "stream",
     "text": [
      "Multiplicacion total es: 5040\n"
     ]
    }
   ],
   "source": [
    "def multiplicar_lista(lista):\n",
    "    producto = 1\n",
    "    for numero in lista:\n",
    "        producto *= numero\n",
    "    return producto\n",
    "    \n",
    "# MAIN\n",
    "lista = [1,2,3,4,5,6,7]\n",
    "total_producto = multiplicar_lista(lista)\n",
    "print(f'Multiplicacion total es: {total_producto}')\n",
    "\n",
    "        "
   ]
  }
 ],
 "metadata": {
  "kernelspec": {
   "display_name": "Python 3",
   "language": "python",
   "name": "python3"
  },
  "language_info": {
   "codemirror_mode": {
    "name": "ipython",
    "version": 3
   },
   "file_extension": ".py",
   "mimetype": "text/x-python",
   "name": "python",
   "nbconvert_exporter": "python",
   "pygments_lexer": "ipython3",
   "version": "3.13.2"
  }
 },
 "nbformat": 4,
 "nbformat_minor": 5
}
