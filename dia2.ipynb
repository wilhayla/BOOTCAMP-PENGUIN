{
 "cells": [
  {
   "cell_type": "code",
   "execution_count": null,
   "id": "2a1fbbec",
   "metadata": {},
   "outputs": [],
   "source": []
  },
  {
   "cell_type": "code",
   "execution_count": null,
   "id": "88ff8316",
   "metadata": {},
   "outputs": [],
   "source": []
  },
  {
   "cell_type": "code",
   "execution_count": null,
   "id": "38b17873",
   "metadata": {},
   "outputs": [],
   "source": []
  },
  {
   "cell_type": "code",
   "execution_count": 2,
   "id": "17a82019",
   "metadata": {},
   "outputs": [
    {
     "name": "stdout",
     "output_type": "stream",
     "text": [
      "Buen dia carlos\n"
     ]
    }
   ],
   "source": [
    "def saludo_bienvenida (nombre):\n",
    "    print(f'Buen dia {nombre}')\n",
    "\n",
    "nombre = input('Dime tu nombre.')\n",
    "saludo_bienvenida(nombre)"
   ]
  },
  {
   "cell_type": "markdown",
   "id": "eae12644",
   "metadata": {},
   "source": [
    "## CONDICIONALES\n",
    "\n",
    "Una condicional es el mecanismmo que le permite a tu programa tomar decisiones, segun si cierta expresion logica resulta verdadera o falsa, se ejecuta uno u otro bloque de codigo.\n",
    "\n",
    "## OPERADORES DE COMPARACION\n",
    "\n",
    "- Mayor >\n",
    "- Menor <\n",
    "- Mayor o igual >=\n",
    "- Menor o igual <=\n",
    "- Es igual ==\n",
    "- Diferente !=\n",
    "\n",
    "## PALABRAS CLAVES\n",
    "\n",
    "- if (si)\n",
    "- elif (sino si)\n",
    "- else (sino)"
   ]
  },
  {
   "cell_type": "markdown",
   "id": "e894fe18",
   "metadata": {},
   "source": [
    "## Challenge - 20m\n",
    "Escribe un programa que pregunte al usuario por su edad y determine si tiene edad suficiente para comprar y consumir alcohol.\n",
    "\n",
    "- Si el usuario tiene mas de 18 pero menos de 21 impirmir \"Podes tomar pero no comprar\"\n",
    "- Si el usuario tiene menos de 18 imprimir \"Juguito nomas\"\n",
    "- Si el usuario tiene mas de 21 imprimir \"Hace lo que quieras\"\n"
   ]
  },
  {
   "cell_type": "code",
   "execution_count": 9,
   "id": "d4f395fb",
   "metadata": {},
   "outputs": [
    {
     "name": "stdout",
     "output_type": "stream",
     "text": [
      "Podes tomar juguito nomas.\n"
     ]
    }
   ],
   "source": [
    "edad = int(input('Que edad tienes?: '))\n",
    "\n",
    "if edad > 21:\n",
    "    print('Hace lo que quieras')\n",
    "elif edad > 18:\n",
    "    print('Podes tomar pero no comprar')\n",
    "else:\n",
    "    print('Podes tomar juguito nomas.')\n",
    "    \n"
   ]
  },
  {
   "cell_type": "markdown",
   "id": "acd806d2",
   "metadata": {},
   "source": [
    "## OPERADORES LOGICOS\n",
    "Operadores Lógicos\n",
    "and(y) - Se cumple solo si ambas condiciones son verdaderas.\n",
    "or (o) - Se cumple si al menos una de las condiciones es verdadera.\n",
    "not (no) - se utiliza para invertir (negar) el valor de verdad de una expresión booleana:\n",
    "\n",
    "Expresión\tResultado\n",
    "not True\tFalse\n",
    "not False\tTrue    \n",
    "\n",
    "Cómo funciona\n",
    "Se evalúa la expresión a la derecha de not.\n",
    "\n",
    "Se convierte su resultado a un valor booleano (True o False) siguiendo las reglas de “truthiness” de Python (valores vacíos, 0, None, etc. se consideran False; todo lo demás, True).\n",
    "\n",
    "Se invierte:\n",
    "\n",
    "Si la expresión era True, se devuelve False.\n",
    "\n",
    "Si era False, se devuelve True."
   ]
  },
  {
   "cell_type": "markdown",
   "id": "e717568d",
   "metadata": {},
   "source": [
    "Challenge  - 30m\n",
    "Escribir un programa en el que se pregunte al usuario por una temperatura (en grados Celsius), imprima la temperatura escrita, y luego clasificar la temperatura ingresada en los siguientes niveles:\n",
    "\n",
    "- Entre -10 y 18 grados, que imprima \"Fresquete\".\n",
    "- Entre 19 y 30 grados, que imprima \"Calor'i\".\n",
    "- Entre 31 y 45 grados, que imprima \"Hakuuuuuu\".\n",
    "- Para todo lo demás, imprimir \"Ñamano mba'e!\"."
   ]
  },
  {
   "cell_type": "code",
   "execution_count": 29,
   "id": "6ee256c8",
   "metadata": {},
   "outputs": [
    {
     "name": "stdout",
     "output_type": "stream",
     "text": [
      "La temperatura actual es 80 grados Celcius\n",
      "namano mbae\n"
     ]
    }
   ],
   "source": [
    "temperatura = int(input('Cual es la temperatura actual?: '))\n",
    "print(f'La temperatura actual es {temperatura} grados Celcius')\n",
    "\n",
    "if temperatura >= -10 and temperatura <= 18:\n",
    "    print('Hace fresquete')\n",
    "elif temperatura > 18 and temperatura <= 30:\n",
    "    print(\"Hace Calor'i\")\n",
    "elif temperatura > 30 and temperatura <= 45:\n",
    "    print('Hace hakuuuu.')\n",
    "else:\n",
    "    print('namano mbae')\n",
    "\n",
    "\n"
   ]
  },
  {
   "cell_type": "markdown",
   "id": "d5f7fcfd",
   "metadata": {},
   "source": [
    "## BUCLES\n",
    "\n",
    "- While: Nos permite ejecutar una serie de instrucciones mientras una condicionse cumpla. Al momento que la condicion deje de ser cierta el bucle va a parar."
   ]
  },
  {
   "cell_type": "code",
   "execution_count": null,
   "id": "674b2344",
   "metadata": {},
   "outputs": [],
   "source": []
  },
  {
   "cell_type": "markdown",
   "id": "9f5721ce",
   "metadata": {},
   "source": [
    "## Challenge  - 20m\n",
    "Escribir un programa que almacene una contraseña en una variable, y pregunte al usuario por la contraseña hasta que introduzca la contraseña correcta.\n",
    "\n",
    "Cuando el usuario ingrese la contrasena correcta, imprimir un mensaje secreto.\n"
   ]
  },
  {
   "cell_type": "code",
   "execution_count": 31,
   "id": "91dcbc65",
   "metadata": {},
   "outputs": [
    {
     "name": "stdout",
     "output_type": "stream",
     "text": [
      "Contrasena incorrecta\n",
      "Contrasena incorrecta\n",
      "Contrasena incorrecta\n",
      "Contrasena incorrecta\n",
      "Adivinaste\n"
     ]
    }
   ],
   "source": [
    "contrasena = 'melli'\n",
    "\n",
    "while True:\n",
    "    cont = input('Adivina mi contrasena: ')\n",
    "    if cont == contrasena:\n",
    "        print('Adivinaste')\n",
    "        break\n",
    "    else:\n",
    "        print('Contrasena incorrecta')\n"
   ]
  },
  {
   "cell_type": "code",
   "execution_count": 2,
   "id": "56606d8f",
   "metadata": {},
   "outputs": [
    {
     "name": "stdout",
     "output_type": "stream",
     "text": [
      "Contrasena incorrecta\n",
      "Contrasena incorrecta\n",
      "Adivinaste\n"
     ]
    }
   ],
   "source": [
    "# OTRA OPCION DEL CHALLENGE EN UNA FUNCION\n",
    "\n",
    "def adivinar_contrasena(contrasena):\n",
    "    while True:\n",
    "        cont = input('Adivina la contrasena: ')\n",
    "        if cont == contrasena:\n",
    "            print('Adivinaste')\n",
    "            break\n",
    "        else:\n",
    "            print('Contrasena incorrecta')\n",
    "\n",
    "\n",
    "adivinar_contrasena('melli')\n"
   ]
  },
  {
   "cell_type": "markdown",
   "id": "3a0691c0",
   "metadata": {},
   "source": [
    "## LISTAS\n",
    "\n"
   ]
  },
  {
   "cell_type": "markdown",
   "id": "c2f67969",
   "metadata": {},
   "source": [
    "Challenge  - 20m\n",
    "Crear una lista de 5 elementos. Luego, seguir los siguientes pasos.\n",
    "\n",
    "- Agregar un elemento al final de la lista.\n",
    "\n",
    "- Modificar el segundo elemento.\n",
    "\n",
    "- Eliminar el tercer elemento."
   ]
  },
  {
   "cell_type": "code",
   "execution_count": 6,
   "id": "dc0e9bf4",
   "metadata": {},
   "outputs": [
    {
     "name": "stdout",
     "output_type": "stream",
     "text": [
      "[1, 2, 3, 4, 5]\n",
      " \n",
      "[1, 2, 3, 4, 5, 6]\n",
      " \n",
      "[1, 7, 3, 4, 5, 6]\n",
      " \n",
      "[1, 7, 4, 5, 6]\n"
     ]
    }
   ],
   "source": [
    "lista = [1, 2, 3, 4, 5]\n",
    "print(lista)\n",
    "print(' ')\n",
    "\n",
    "# agregar un elemento a la lista\n",
    "\n",
    "lista.append(6)\n",
    "print(lista)\n",
    "print(' ')\n",
    "\n",
    "# Modificar el segundo elemento\n",
    "lista[1] = 7\n",
    "print(lista)\n",
    "print(' ')\n",
    "\n",
    "# eliminar el tercer elemento\n",
    "lista.remove(3)\n",
    "print(lista)\n",
    "\n"
   ]
  },
  {
   "cell_type": "markdown",
   "id": "c3ab59f7",
   "metadata": {},
   "source": [
    "## BUCLE FOR\n",
    "\n",
    "Cuando queremos repetir una accion una cierta cantidad de veces, podemos utilizar un bucle iterativo.\n",
    "Iteraciones: una accion repetida una cierta cantidad de veces, pero en cada repeticion se tiene en cuenta el valor anterior."
   ]
  },
  {
   "cell_type": "code",
   "execution_count": 7,
   "id": "94d0010f",
   "metadata": {},
   "outputs": [
    {
     "name": "stdout",
     "output_type": "stream",
     "text": [
      "1\n",
      "2\n",
      "3\n",
      "4\n",
      "5\n",
      "6\n",
      "7\n"
     ]
    }
   ],
   "source": [
    "dias_de_la_semana = [1,2,3,4,5,6,7]\n",
    "\n",
    "for i in dias_de_la_semana:\n",
    "    print(i)"
   ]
  },
  {
   "cell_type": "code",
   "execution_count": 8,
   "id": "dc37e211",
   "metadata": {},
   "outputs": [
    {
     "name": "stdout",
     "output_type": "stream",
     "text": [
      "hola\n",
      "hola\n",
      "hola\n",
      "hola\n",
      "hola\n"
     ]
    }
   ],
   "source": [
    "for i in range(5):\n",
    "    print('hola')"
   ]
  },
  {
   "cell_type": "code",
   "execution_count": 9,
   "id": "c013885a",
   "metadata": {},
   "outputs": [
    {
     "name": "stdout",
     "output_type": "stream",
     "text": [
      "pan\n",
      "queso\n",
      "coca\n",
      "leche\n",
      "ron\n"
     ]
    }
   ],
   "source": [
    "lista_compras = ['pan', 'queso', 'coca', 'leche', 'ron']\n",
    "\n",
    "for productos in lista_compras:\n",
    "    print(productos)"
   ]
  },
  {
   "cell_type": "markdown",
   "id": "de336ca9",
   "metadata": {},
   "source": [
    "## Challenge 🤺 - 20m\n",
    "Escribir un programa que itere en un rango de 10 veces. Por cada iteracion multiplicar el iterador por dos e imprimir el resultado."
   ]
  },
  {
   "cell_type": "code",
   "execution_count": 11,
   "id": "ef44e429",
   "metadata": {},
   "outputs": [
    {
     "name": "stdout",
     "output_type": "stream",
     "text": [
      "0\n",
      "2\n",
      "4\n",
      "6\n",
      "8\n",
      "10\n",
      "12\n",
      "14\n",
      "16\n",
      "18\n"
     ]
    }
   ],
   "source": [
    "for i in range(10):\n",
    "    resultado = i * 2\n",
    "    print(resultado)"
   ]
  },
  {
   "cell_type": "markdown",
   "id": "2b8a3325",
   "metadata": {},
   "source": [
    "## Challenge\n",
    "\n",
    "Recorrer los elementos de una lista de marcas e imprimir cada marca solamente si tiene 6 letras o mas."
   ]
  },
  {
   "cell_type": "code",
   "execution_count": null,
   "id": "58e20f96",
   "metadata": {},
   "outputs": [
    {
     "name": "stdout",
     "output_type": "stream",
     "text": [
      "['adidas', 'lacoste']\n"
     ]
    }
   ],
   "source": [
    "lista = ['nike', 'adidas', 'lacoste','volvo']\n",
    "\n",
    "for i in lista:\n",
    "    if len(i) < 6:\n",
    "        lista.remove(i)\n",
    "print(lista)\n",
    "        \n",
    "\n",
    "    \n"
   ]
  },
  {
   "cell_type": "markdown",
   "id": "312d7a18",
   "metadata": {},
   "source": [
    "## Challenge\n",
    "\n",
    "Solicitar al usuario que ingrese una frase.\n",
    "imprimir un mensaje cada vez que se encuentre  una letra \"o\""
   ]
  },
  {
   "cell_type": "code",
   "execution_count": 18,
   "id": "782bf0fc",
   "metadata": {},
   "outputs": [
    {
     "name": "stdout",
     "output_type": "stream",
     "text": [
      "Hay una letra O\n",
      "Hay una letra O\n",
      "Hay una letra O\n"
     ]
    }
   ],
   "source": [
    "frase = input('Ingrese una frase: ')\n",
    "\n",
    "for letra in frase:\n",
    "    if letra == 'o':\n",
    "        print('Hay una letra O')\n",
    "\n",
    "    \n"
   ]
  }
 ],
 "metadata": {
  "kernelspec": {
   "display_name": "Python 3",
   "language": "python",
   "name": "python3"
  },
  "language_info": {
   "codemirror_mode": {
    "name": "ipython",
    "version": 3
   },
   "file_extension": ".py",
   "mimetype": "text/x-python",
   "name": "python",
   "nbconvert_exporter": "python",
   "pygments_lexer": "ipython3",
   "version": "3.13.3"
  }
 },
 "nbformat": 4,
 "nbformat_minor": 5
}
