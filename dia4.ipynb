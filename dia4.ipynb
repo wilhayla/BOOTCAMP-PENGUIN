{
 "cells": [
  {
   "cell_type": "markdown",
   "id": "2e01c25e",
   "metadata": {},
   "source": [
    "### Challenge 01 ##\n",
    "\n",
    "Escribir un programa que cree un diccionario vacio y lo vaya llenando con informacion sobre una persona (por ejemplo nombre, edad, sexo, telefono, correo,etc) que se le pida al usuario. Cada vez que se anada un nuevo dato debe imprimirse el contenido del diccionario."
   ]
  },
  {
   "cell_type": "code",
   "execution_count": 12,
   "id": "9bc70ba1",
   "metadata": {},
   "outputs": [
    {
     "name": "stdout",
     "output_type": "stream",
     "text": [
      "{'Nombre': 'William'}\n",
      "{'Nombre': 'William', 'Apellido': 'Haywood'}\n",
      "{'Nombre': 'William', 'Apellido': 'Haywood', 'email': 'wilhayla@hotmail.com'}\n",
      "{'Nombre': 'William', 'Apellido': 'Haywood', 'email': 'wilhayla@hotmail.com', 'Direccion': 'Ingavi'}\n"
     ]
    }
   ],
   "source": [
    "# OPCION 02\n",
    "\n",
    "persona = {}\n",
    "\n",
    "while True:\n",
    "    clave = input('Ingrese la clave. Escriba \"salir para salir: ')\n",
    "    if clave.lower() == 'salir':\n",
    "        break\n",
    "    valor = input('Ingrese un valor: ')\n",
    "    persona[clave]=valor\n",
    "    print(persona)\n",
    "    \n",
    "    "
   ]
  },
  {
   "cell_type": "markdown",
   "id": "98d8c8f5",
   "metadata": {},
   "source": [
    "\n",
    "##  Challenge 2 ##\n",
    "Crear una tarjeta personal. El usuario (mediante input) puede elegir:\n",
    "\n",
    "- Crear datos nuevos\n",
    "- Modificar datos\n",
    "- Eliminar datos"
   ]
  },
  {
   "cell_type": "code",
   "execution_count": 1,
   "id": "40e61fee",
   "metadata": {},
   "outputs": [
    {
     "name": "stdout",
     "output_type": "stream",
     "text": [
      "1. Crear datos nuevos\n",
      "2. Modificar datos.\n",
      "3. Eliminar datos.\n",
      "4. Salir\n",
      "{'Nombre y apellido': 'William Haywood', 'Profesion': 'Arquitecto', 'Telefono': '0981348688', 'Email': 'haywoodwilly@gmail.com', 'Direccion': 'Monte Alto'}\n",
      "Este elemento no esta en el diccionario. Intentelo de nuevo.\n",
      "Este elemento no esta en el diccionario. Intentelo de nuevo.\n",
      "{'Nombre y apellido': 'William Haywood', 'Profesion': 'Arquitecto', 'Telefono': '0981348688', 'Email': 'haywoodwilly@gmail.com', 'Direccion': 'Ingavi'}\n",
      "{'Nombre y apellido': 'William Haywood', 'Profesion': 'Arquitecto', 'Email': 'haywoodwilly@gmail.com', 'Direccion': 'Ingavi'}\n"
     ]
    }
   ],
   "source": [
    "# crear un diccionario que se llame tarjeta_personal\n",
    "# agregar datos de tu tarjeta personal. Nombre y apellido, profesion, telefon e email.\n",
    "# agrega datos nuevos al diccionario\n",
    "# modificar un dato existente del diccionario\n",
    "# eliminar un dato del diccionario\n",
    "\n",
    "tarjeta_personal = {\n",
    "    'Nombre y apellido':'William Haywood',\n",
    "    'Profesion':'Arquitecto',\n",
    "    'Telefono':'0981348688',\n",
    "    'Email':'haywoodwilly@gmail.com'\n",
    "    }\n",
    "\n",
    "print ('1. Crear datos nuevos')\n",
    "print ('2. Modificar datos.')\n",
    "print ('3. Eliminar datos.')\n",
    "print ('4. Salir')\n",
    "\n",
    "while True:\n",
    "    respuesta = input('Elige una opcion si quieres modificar el diccionario. (4) para salir: ')\n",
    "    opcion1 = '1'\n",
    "    opcion2 = '2'\n",
    "    opcion3 = '3'\n",
    "    salir = '4'\n",
    "    if respuesta == opcion1:\n",
    "        clave = input('Agrega una clave: ')\n",
    "        valor = input('Agrega un valor: ')\n",
    "        tarjeta_personal[clave] = valor\n",
    "        print(tarjeta_personal)\n",
    "    elif respuesta == opcion2:\n",
    "        dato_clave = input('Que dato del diccionario quieres modificar?')\n",
    "        if dato_clave in tarjeta_personal:\n",
    "            valor_modificar = input('Ingrese el valor a modificar: ')\n",
    "            tarjeta_personal[dato_clave] = valor_modificar\n",
    "            print(tarjeta_personal)\n",
    "        else:\n",
    "            if dato_clave not in tarjeta_personal:\n",
    "                print('Este elemento no esta en el diccionario. Intentelo de nuevo.')\n",
    "    elif respuesta == opcion3:\n",
    "        dato_eliminar = input('Que dato del diccionario quieres eliminar?')\n",
    "        if dato_eliminar in tarjeta_personal:\n",
    "            tarjeta_personal.pop(dato_eliminar)\n",
    "        else:\n",
    "            if dato_eliminar not in tarjeta_personal:\n",
    "                print('Este elemento no esta en el diccionario. Intentelo de nuevo.')\n",
    "        print(tarjeta_personal)\n",
    "    else:\n",
    "        if respuesta == '4':\n",
    "            break"
   ]
  },
  {
   "cell_type": "markdown",
   "id": "b5d86275",
   "metadata": {},
   "source": [
    "\n",
    "## Challenge 3 ##\n",
    "Crear una agenda de contactos. El usuario puede elegir:\n",
    "\n",
    "- Mostrar los contactos\n",
    "- Crear contacto\n",
    "- Modificar datos del contacto\n"
   ]
  },
  {
   "cell_type": "code",
   "execution_count": 9,
   "id": "e3573f07",
   "metadata": {},
   "outputs": [
    {
     "name": "stdout",
     "output_type": "stream",
     "text": [
      "1. Mostrar contactos\n",
      "2. Crear contactos.\n",
      "3. Modificar datos del contacto.\n",
      "4. Salir\n",
      "{'William': {'Telefono': '0981348688', 'email': 'haywoodwilly@gmail.com'}, 'Juan': {'Telefono': '0981444444', 'email': 'juan@gmail.com'}, 'Claudia': {'Telefono': '0981111111', 'email': 'claudia@gmail.com'}}\n",
      "{'William': {'Telefono': '0981348688', 'email': 'haywoodwilly@gmail.com'}, 'Juan': {'Telefono': '0981444444', 'email': 'juan@gmail.com'}, 'Claudia': {'Telefono': '0981111111', 'email': 'claudia@gmail.com'}, 'Estefano': {'Telefono': '93938849', 'direccion': 'kdjfkdjkjf'}}\n",
      "{'William': {'Telefono': '0981348688', 'email': 'haywoodwilly@gmail.com'}, 'Juan': {'Telefono': '0981444444', 'email': 'juan@gmail.com'}, 'Claudia': {'Telefono': '0981111111', 'email': 'claudia@gmail.com'}, 'Estefano': {'Telefono': '93938849', 'direccion': 'kdjfkdjkjf'}}\n"
     ]
    }
   ],
   "source": [
    "''' \n",
    "1. Crar un diccionario Agenda.\n",
    "\n",
    "'''\n",
    "\n",
    "agenda = {'William':{'Telefono':'0981348688', 'email':'haywoodwilly@gmail.com'},\n",
    "          'Juan':{'Telefono':'0981444444', 'email':'juan@gmail.com'},\n",
    "          'Claudia':{'Telefono':'0981111111', 'email':'claudia@gmail.com'}}\n",
    "\n",
    "print ('1. Mostrar contactos')\n",
    "print ('2. Crear contactos.')\n",
    "print ('3. Modificar datos del contacto.')\n",
    "print ('4. Salir')\n",
    "\n",
    "while True:\n",
    "    opcion = int(input('Que opciones deseas elegir? (4) para salir: '))\n",
    "    if opcion == 1:\n",
    "        print(agenda)\n",
    "    elif opcion == 2:\n",
    "        sublista = {}\n",
    "        nombre_clave = input('Nombre: ')\n",
    "        n = int(input('Cantidad de informacion que quieres agregar a ' + (nombre_clave) + ':'))\n",
    "        for x in range(n):\n",
    "            clave_sublista = input('Que datos quieres agregar? :')\n",
    "            valor_sublista = input('Que valor quieres agregar: ')\n",
    "            sublista[clave_sublista] = valor_sublista\n",
    "        agenda[nombre_clave] = sublista\n",
    "        print(agenda)\n",
    "    elif opcion == 3:\n",
    "        dato_clave = input('Los datos de que contacto quieres modificar?: ')\n",
    "        if dato_clave in agenda:\n",
    "            sublista_dato = input('Que datos quieres modificar de ' + dato_clave + '?:')\n",
    "            if sublista_dato in agenda[dato_clave]:\n",
    "                sublista_valor = input('Cambie  ' + sublista_dato + ':')\n",
    "                agenda [dato_clave][sublista_dato]=sublista_valor\n",
    "                print(agenda)\n",
    "            else:\n",
    "                print('Este dato no esta registrado. Intentelo de nuevo.')\n",
    "        else:\n",
    "            print('Este dato no esta registrado. Intentelo de nuevo.')\n",
    "                                       \n",
    "    else: \n",
    "        if opcion == 4:\n",
    "            break\n",
    "\n"
   ]
  },
  {
   "cell_type": "markdown",
   "id": "91d4faf1",
   "metadata": {},
   "source": [
    "## Challenge \n",
    "Crear dos métodos para nuestro animal y ejecutar, debe ser algo específico de ese animal.\n",
    "\n",
    "Ejemplo: \"Cuando hablo, digo X\".\n",
    "Ejemplo: \"Cuando me muevo, hago X\"."
   ]
  },
  {
   "cell_type": "code",
   "execution_count": 27,
   "id": "2d95f44b",
   "metadata": {},
   "outputs": [
    {
     "name": "stdout",
     "output_type": "stream",
     "text": [
      "Caundo rujo digo \"grrrrrrrr\"\n",
      "Cuando cazo corro velozmente.\n"
     ]
    }
   ],
   "source": [
    "class Leon:\n",
    "    def __init__(self):\n",
    "        self.hablar = print('Caundo rujo digo \"grrrrrrrr\"')\n",
    "        \n",
    "    \n",
    "    def cazar(self):\n",
    "        print('Cuando cazo corro velozmente.')\n",
    "    \n",
    "leon1 = Leon()\n",
    "leon1.cazar()\n",
    "\n"
   ]
  },
  {
   "cell_type": "markdown",
   "id": "41835616",
   "metadata": {},
   "source": [
    "## Challenge \n",
    "Definir una clase madre que herede a sus clases hijas dos atributos de instancia. Mostrar ambos atributos en pantalla desde los objetos de las clases hijas.\n",
    "\n",
    "Observación: Editar las clases hijas para que no se inicialicen."
   ]
  },
  {
   "cell_type": "code",
   "execution_count": null,
   "id": "daf43ebc",
   "metadata": {},
   "outputs": [
    {
     "name": "stdout",
     "output_type": "stream",
     "text": [
      "rubia\n",
      "morera\n"
     ]
    }
   ],
   "source": [
    "class Madre:\n",
    "    ojos = 2\n",
    "    brazos = 2\n",
    "    pierna = 2\n",
    "\n",
    "    def __init__(self, cabello, piel):\n",
    "        self.cabello = cabello\n",
    "        self.piel = piel\n",
    "\n",
    "class Hijas(Madre):\n",
    "    pass\n",
    "       \n",
    "alejandra = Hijas('rubia', 'morera')\n",
    "print(alejandra.cabello)\n",
    "print(alejandra.piel)\n",
    "\n",
    "\n",
    "\n"
   ]
  }
 ],
 "metadata": {
  "kernelspec": {
   "display_name": "Python 3",
   "language": "python",
   "name": "python3"
  },
  "language_info": {
   "codemirror_mode": {
    "name": "ipython",
    "version": 3
   },
   "file_extension": ".py",
   "mimetype": "text/x-python",
   "name": "python",
   "nbconvert_exporter": "python",
   "pygments_lexer": "ipython3",
   "version": "3.13.2"
  }
 },
 "nbformat": 4,
 "nbformat_minor": 5
}
