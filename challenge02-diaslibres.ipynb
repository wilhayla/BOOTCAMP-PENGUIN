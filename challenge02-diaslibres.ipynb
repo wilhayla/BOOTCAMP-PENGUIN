{
 "cells": [
  {
   "cell_type": "code",
   "execution_count": null,
   "id": "ac56720a",
   "metadata": {},
   "outputs": [],
   "source": [
    "# PESEUDO CODIGO\n",
    "\n",
    "# crear una clase que se llame Adivinar_Numero_Secreto.\n",
    "    # crear un atributo de clase 'numero_secreto' donde guardar el numero a adivinar. Guardar en una variable.\n",
    "        \n",
    "    # crear un metodo 'ingresar_numero' donde ingresaremos el numero a adivinar.\n",
    "        # mesaje en pantalla. \"Tienes 3 intentos para adivinar el numero.\"\n",
    "        # crear un contador igual a tres\n",
    "        # mietras contador sea menor a tres (repetir el bucle)\n",
    "            # pedir por consola una entrada de un numero\n",
    "            # si numero es igual a numero_secreto\n",
    "                # mostrar en pantalla el mensaje \"¡Feliciades! Adivinaste.\"\n",
    "                # mostrar en pantala \"El numero secreto es {numero_secreto}\"\n",
    "                # si acierta parar con break\n",
    "            # si no es igual a numero_secreto\n",
    "                # mostrar en pantalla el mensaje \"Intentelo de nuevo\"\n",
    "            # sumar al contador 1\n",
    "\n",
    "# crear un objeto de instancia llamada jugar\n",
    "# llamar al metodo 'ingresar_numero'\n",
    "            \n",
    "                "
   ]
  },
  {
   "cell_type": "code",
   "execution_count": 8,
   "id": "a2191c2c",
   "metadata": {},
   "outputs": [
    {
     "name": "stdout",
     "output_type": "stream",
     "text": [
      "Tienes 3 intentos para adivinar el numero.\n",
      "¡Felicidades! Adivinaste\n",
      "El numero secreto es: 45\n"
     ]
    }
   ],
   "source": [
    "class Adivinar_Numero_Secreto:\n",
    "    numero_secreto = 45\n",
    "    \n",
    "    def ingresar_numero(self):\n",
    "        print('Tienes 3 intentos para adivinar el numero.')\n",
    "        contador = 0\n",
    "        while contador < 3:\n",
    "            self.numero = int(input('Ingrese un numero: '))\n",
    "            if self.numero == Adivinar_Numero_Secreto.numero_secreto:\n",
    "                print('¡Felicidades! Adivinaste')\n",
    "                print(f'El numero secreto es: {Adivinar_Numero_Secreto.numero_secreto}')\n",
    "                break\n",
    "            else:\n",
    "                print('No acertaste.')\n",
    "            contador += 1\n",
    "            \n",
    "# MAIN\n",
    "jugar = Adivinar_Numero_Secreto()\n",
    "jugar.ingresar_numero()\n",
    "            \n",
    "                \n",
    "        \n",
    "        "
   ]
  }
 ],
 "metadata": {
  "kernelspec": {
   "display_name": "Python 3",
   "language": "python",
   "name": "python3"
  },
  "language_info": {
   "codemirror_mode": {
    "name": "ipython",
    "version": 3
   },
   "file_extension": ".py",
   "mimetype": "text/x-python",
   "name": "python",
   "nbconvert_exporter": "python",
   "pygments_lexer": "ipython3",
   "version": "3.13.2"
  }
 },
 "nbformat": 4,
 "nbformat_minor": 5
}
