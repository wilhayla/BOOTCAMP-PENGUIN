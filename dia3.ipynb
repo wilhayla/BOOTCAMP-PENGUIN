{
 "cells": [
  {
   "cell_type": "code",
   "execution_count": 1,
   "id": "cc4fa5a5",
   "metadata": {},
   "outputs": [
    {
     "name": "stdout",
     "output_type": "stream",
     "text": [
      "Hola mundo\n"
     ]
    }
   ],
   "source": [
    "def imprimir_saludos():\n",
    "    print('Hola mundo')\n",
    "\n",
    "imprimir_saludos()"
   ]
  },
  {
   "cell_type": "markdown",
   "id": "7c6b2018",
   "metadata": {},
   "source": [
    "## Challenge 1  - 10m ##\n",
    "Crear una función que imprima la variable palabra."
   ]
  },
  {
   "cell_type": "code",
   "execution_count": 4,
   "id": "0de97b2b",
   "metadata": {},
   "outputs": [
    {
     "name": "stdout",
     "output_type": "stream",
     "text": [
      "hola\n"
     ]
    }
   ],
   "source": [
    "def imprir_palabra(palabra):\n",
    "    print(palabra)\n",
    "\n",
    "palabra = 'hola'\n",
    "imprir_palabra(palabra)\n",
    "\n"
   ]
  },
  {
   "cell_type": "markdown",
   "id": "b39ea50c",
   "metadata": {},
   "source": [
    "## Challenge 2  - 20 min ##\n",
    "Crear una función que reciba dos letras (parámetros) y que verifique si son iguales:\n",
    "\n",
    "- Si son iguales, imprimir \"Las letras son iguales\".\n",
    "\n",
    "- De lo contrario, imprimir \"Las letras son diferentes\"."
   ]
  },
  {
   "cell_type": "code",
   "execution_count": null,
   "id": "909cd2ae",
   "metadata": {},
   "outputs": [
    {
     "name": "stdout",
     "output_type": "stream",
     "text": [
      "Son iguales\n",
      "Son diferentes\n"
     ]
    }
   ],
   "source": [
    "def recibir_letras (l1, l2):\n",
    "    if l1 == l2:\n",
    "        print('Son iguales')\n",
    "    else:\n",
    "        print('Son diferentes')\n",
    "\n",
    "# MAIN\n",
    "recibir_letras('a', 'a')\n",
    "recibir_letras('b', 'a')"
   ]
  },
  {
   "cell_type": "code",
   "execution_count": 9,
   "id": "318ff39b",
   "metadata": {},
   "outputs": [
    {
     "name": "stdout",
     "output_type": "stream",
     "text": [
      "3\n",
      "8\n"
     ]
    }
   ],
   "source": [
    "def sumatoria (numero1, numero2):\n",
    "    sumar = numero1 + numero2\n",
    "    return sumar\n",
    "\n",
    "suma1 = sumatoria(1,2)\n",
    "print(suma1)\n",
    "total = suma1 + 5\n",
    "print(total)"
   ]
  },
  {
   "cell_type": "markdown",
   "id": "ad47d5c2",
   "metadata": {},
   "source": [
    "## Challenge 3  - 20m ##\n",
    "Crear una función que reciba dos parámetros (una palabra y un número), y que retorne True si el número es igual a la cantidad de letras de la palabra. En caso contrario, que retorne False.\n",
    "\n",
    "- Pista: cantidad de letras de una palabra en python"
   ]
  },
  {
   "cell_type": "code",
   "execution_count": 14,
   "id": "c6664302",
   "metadata": {},
   "outputs": [
    {
     "name": "stdout",
     "output_type": "stream",
     "text": [
      "True\n",
      "False\n"
     ]
    }
   ],
   "source": [
    "def recibir_palabra_numero(palabra, numero):\n",
    "    largo_palabra = len(palabra)\n",
    "    if largo_palabra == numero:\n",
    "        return True\n",
    "    else:\n",
    "        return False\n",
    "\n",
    "condicion = recibir_palabra_numero('william', 7)\n",
    "print(condicion)\n",
    "condicion = recibir_palabra_numero('william', 9)\n",
    "print(condicion)\n"
   ]
  },
  {
   "cell_type": "markdown",
   "id": "319dbbc7",
   "metadata": {},
   "source": [
    "## Challenge 5  - 25m ##\n",
    "Pedir al usuario que ingrese 1 palabra, luego convertir esa palabra a una lista con sus caracteres con list(). Agregar esa lista de caracteres a una lista llamada palabras_ingresadas. Repetir el proceso 3 veces. Cada vez que se agregue una lista de caracteres, imprimir la lista palabras_ingresadas.\n",
    "\n",
    "\n",
    "Ejemplo del resultado esperado:\n",
    "\n",
    "[['c', 'i', 'e', 'l', 'o']]\n",
    " # Al ingresar la primera palabra\n",
    "\n",
    "[['c', 'i', 'e', 'l', 'o'], ['c', 'a', 'l', 'o', 'r']]\n",
    " # Al ingresar la segunda palabra\n",
    "\n",
    "[['c', 'i', 'e', 'l', 'o'], ['c', 'a', 'l', 'o', 'r'], ['n', 'u', 'b', 'e', 's']]\n",
    " # Al ingresar la tercera palabra"
   ]
  },
  {
   "cell_type": "code",
   "execution_count": 16,
   "id": "3846c392",
   "metadata": {},
   "outputs": [
    {
     "name": "stdout",
     "output_type": "stream",
     "text": [
      "[['a', 'u', 't', 'o']]\n",
      "[['a', 'u', 't', 'o'], ['m', 'o', 't', 'o']]\n",
      "[['a', 'u', 't', 'o'], ['m', 'o', 't', 'o'], ['b', 'i', 'c', 'i', 'c', 'l', 'e', 't', 'a']]\n"
     ]
    }
   ],
   "source": [
    "palabras_ingresadas = []\n",
    "\n",
    "for i in range(3):\n",
    "    palabra = input('Ingrese una palabra: ')\n",
    "    caracteres = list(palabra)\n",
    "    palabras_ingresadas.append(caracteres)\n",
    "    print(palabras_ingresadas)\n",
    "\n"
   ]
  },
  {
   "cell_type": "markdown",
   "id": "47ee4fc3",
   "metadata": {},
   "source": [
    "## Challenge 6  - 25m ##\n",
    "Dada la lista de ejemplo: \n",
    "\n",
    "lista = [['h', 'o', 'l', 'i', 's'], ['h', 'e', 'l', 'l', 'o'], ['h', 'a', 'l', 'l', 'o']]\n",
    "\n",
    "Crear una función que imprima una grilla (lista de listas), una línea por cada lista dentro de la lista principal.\n",
    "\n",
    "Ejemplo del resultado esperado:\n",
    "\n",
    "['h', 'o', 'l', 'i', 's']\n",
    "['h', 'e', 'l', 'l', 'o']\n",
    "['h', 'a', 'l', 'l', 'o']"
   ]
  },
  {
   "cell_type": "code",
   "execution_count": 18,
   "id": "708a602e",
   "metadata": {},
   "outputs": [
    {
     "name": "stdout",
     "output_type": "stream",
     "text": [
      "['h', 'o', 'l', 'i', 's']\n",
      "['h', 'e', 'l', 'l', 'o']\n",
      "['h', 'a', 'l', 'l', 'o']\n"
     ]
    }
   ],
   "source": [
    "def ordenar_lista(lista):\n",
    "    for i in lista:\n",
    "        print(i)\n",
    "\n",
    "lista = [['h', 'o', 'l', 'i', 's'], ['h', 'e', 'l', 'l', 'o'], ['h', 'a', 'l', 'l', 'o']]\n",
    "\n",
    "ordenar_lista(lista)\n"
   ]
  },
  {
   "cell_type": "code",
   "execution_count": null,
   "id": "c5869631",
   "metadata": {},
   "outputs": [],
   "source": [
    "#Crear una funcion que contenga dos parametros\n",
    "def obtener_fila_verificada(palabra_a_encontrar, palabra_ingresada):\n",
    "    #Segundo paso: definir la cantidad de letras de la palabra a encontrar\n",
    "    cantidad_de_letras_de_palabra_a_encontrar = 5\n",
    "\n",
    "    #Tercer paso: Crear una lista vacia para guardar las letras verificadas\n",
    "    letras_verificadas = []\n",
    "\n",
    "    #Cuarto paso: Se recorre cada posicion de la palabra \n",
    "    for posicion in range (cantidad_de_letras_de_palabra_a_encontrar):\n",
    "\n",
    "        #Quinto paso: Comparar las letras en la misma posicion\n",
    "        las_letras_son_iguales = palabra_a_encontrar[posicion] == palabra_ingresada[posicion]\n",
    "\n",
    "        #Sexto paso se verifica si la letra existe en la palabra\n",
    "        la_letra_existe_en_la_palabra = palabra_ingresada[posicion] in palabra_a_encontrar\n",
    "\n",
    "        if las_letras_son_iguales:\n",
    "            letras_verificadas.append('[' + palabra_ingresada[posicion] + ']')\n",
    "        \n",
    "        elif la_letra_existe_en_la_palabra:\n",
    "            letras_verificadas.append('(' + palabra_ingresada[posicion] + ')')\n",
    "        else:\n",
    "            letras_verificadas.append(palabra_ingresada[posicion])\n",
    "\n",
    "        \n",
    "    return letras_verificadas\n",
    "\n",
    "palabra_a_encontrar = 'huevo'\n",
    "palabra_ingresada = input(\"Ingrese una palabrotra a de 5 letras\")\n",
    "\n",
    "linea_verificada = obtener_fila_verificada(palabra_a_encontrar, palabra_ingresada)\n",
    "\n",
    "print(linea_verificada)"
   ]
  },
  {
   "cell_type": "code",
   "execution_count": null,
   "id": "7ca4b526",
   "metadata": {},
   "outputs": [],
   "source": [
    "intentos = 3\n",
    "\n",
    "while intentos > 0:\n",
    "    print(f'te quedan {intentos} intentos')\n",
    "    palabra = input('Ingrese la palabra')\n",
    "    intentos = intentos - 1\n",
    "\n",
    "print('te quedaste sin intentos')"
   ]
  },
  {
   "cell_type": "markdown",
   "id": "d3e2df5e",
   "metadata": {},
   "source": [
    "## INICIAR JUEGO ##\n",
    "\n",
    "- Definir palabra_a_encontrar\n",
    "- DEFINIR cantidad_de_letras\n",
    "- DEFINIR intentos\n",
    "- CREAR grilla vacia (lista para mostrar el progreso del jugador)\n",
    "\n",
    "- MOSTRAR mensaje de bienvenida\n",
    "\n",
    "\n"
   ]
  },
  {
   "cell_type": "markdown",
   "id": "ec89c5f6",
   "metadata": {},
   "source": [
    "## Challenge ##\n",
    "## Hacer un codigo de juegos de palabras ##\n",
    "- El juego consiste en adivinar una palabra secreta.\n",
    "- Definir la palabra secreta\n",
    "- Hay que introducir una palabra de usuario, y verificar si la palabra coincide con la palabra secreta.\n",
    "- La verificacion hay que realizarla caracter por caracter.\n",
    "- Al encontrar un caracter que coincida con una letra de la palabra secreta y ademas coincida en la posicion, añadirla a una lista vacia entre conchertes. Ej. [a]\n",
    "- Si el caracter se encuentra en la palabra secreta pero no esta en la posicion correcta, añadirla entre parentesis a una lista vacia. Ej: (b)\n",
    "- Retornar la lista con las palabras ingresadas y mostrar en la consola.\n",
    "- El juego te permite introducir una palabra hasta 3 intentos.\n",
    "- Si no adivinaste la palabra imprimir perdiste.\n",
    "- Si acertaste la palabra imprimir ganaste."
   ]
  },
  {
   "cell_type": "code",
   "execution_count": 2,
   "id": "5f4808e6",
   "metadata": {},
   "outputs": [
    {
     "name": "stdout",
     "output_type": "stream",
     "text": [
      "Tienes 3 intentos para adivinar la palabra.\n",
      "La palabra tiene que tener 6 caracteres. Intentelo de nuevo\n",
      "La palabra tiene que tener 6 caracteres. Intentelo de nuevo\n",
      "['(t)', '(o)', '(a)', '(a)']\n",
      "['(o)']\n",
      "['[z]', '[a]', '[p]', '[a]', '[t]', '[o]']\n",
      "¡Adivinaste!.La palabra secreta es zapato\n"
     ]
    }
   ],
   "source": [
    "def verificar_palabra_usuario(palabra_secreta, palabra_usuario):\n",
    "    while len(palabra_usuario) != len(palabra_secreta):\n",
    "        print('La palabra tiene que tener 6 caracteres. Intentelo de nuevo')\n",
    "        palabra_usuario = input('Ingrese una nueva palabra')\n",
    "    return palabra_usuario\n",
    "    \n",
    "def comparar_palabras(palabra_secreta, palabra_usuario):\n",
    "    largo_palabra_secreta = len(palabra_secreta)\n",
    "    lista_palabra_secreta = list(palabra_secreta)\n",
    "    lista_palabra_usuario = list(palabra_usuario)\n",
    "    lista = []\n",
    "    for posicion in range(largo_palabra_secreta):\n",
    "        if lista_palabra_usuario[posicion] == lista_palabra_secreta[posicion]:\n",
    "            lista.append('[' + lista_palabra_usuario[posicion] + ']')\n",
    "        elif lista_palabra_usuario[posicion] in palabra_secreta:\n",
    "            lista.append('(' + lista_palabra_usuario[posicion] + ')')\n",
    "    return lista\n",
    "        \n",
    "# MAIN\n",
    "# Definir por defecto una palabra secreta. Almacenarla en la variable palabra_secreta\n",
    "palabra_secreta = 'zapato'\n",
    "\n",
    "# hacer un bucle con 3 intentos para ingresar la palabra\n",
    "# dentro del bucle se llama a la funcion verificar_palabra_usuario\n",
    "# y a la funcion comparar_palabras. Se compara si la palabra ingresada es igual o no a la palabra secreta\n",
    "# el bucle termina con la variable intentos es igual a cero, y lanza un mensaje con la palabra secreta\n",
    "\n",
    "print('Tienes 3 intentos para adivinar la palabra.')\n",
    "intentos = 3\n",
    "while intentos > 0:\n",
    "    palabra_usuario = input('Ingrese una palabra aleatoria con 6 caracteres: ')\n",
    "    palabra_verificada = verificar_palabra_usuario(palabra_secreta, palabra_usuario)\n",
    "    palabra_ingresada = comparar_palabras(palabra_secreta, palabra_verificada)\n",
    "    print(palabra_ingresada)\n",
    "    if palabra_verificada == palabra_secreta:\n",
    "        print(f'¡Adivinaste!.La palabra secreta es {palabra_secreta}')\n",
    "        break    \n",
    "    intentos -= 1\n",
    "    \n",
    "if intentos == 0:\n",
    "    print(f'Se terminaron los intentos. La palabra era {palabra_secreta}')"
   ]
  }
 ],
 "metadata": {
  "kernelspec": {
   "display_name": "Python 3",
   "language": "python",
   "name": "python3"
  },
  "language_info": {
   "codemirror_mode": {
    "name": "ipython",
    "version": 3
   },
   "file_extension": ".py",
   "mimetype": "text/x-python",
   "name": "python",
   "nbconvert_exporter": "python",
   "pygments_lexer": "ipython3",
   "version": "3.13.3"
  }
 },
 "nbformat": 4,
 "nbformat_minor": 5
}
