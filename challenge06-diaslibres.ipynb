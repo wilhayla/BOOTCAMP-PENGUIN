{
 "cells": [
  {
   "cell_type": "code",
   "execution_count": null,
   "id": "dfb6bc99",
   "metadata": {},
   "outputs": [],
   "source": [
    "# crear una funcion 'acumulador' (parametro 'n')\n",
    "    # suma es igual a cero (acumulador)\n",
    "    # para i en el rango a partir del 1 al n-1:\n",
    "        # suma = suma + i\n",
    "    # retornar suma\n",
    "\n",
    "# crear variable cantidad\n",
    "# crear variable suma_total y llamar a la funcion 'acumulador'(parametro cantidad)\n",
    "# mostrar en pantalla la suma total\n"
   ]
  },
  {
   "cell_type": "code",
   "execution_count": 11,
   "id": "88e6f83b",
   "metadata": {},
   "outputs": [
    {
     "name": "stdout",
     "output_type": "stream",
     "text": [
      "1\n",
      "2\n",
      "3\n",
      "4\n",
      "5\n",
      "6\n",
      "7\n",
      "8\n",
      "9\n",
      "10\n",
      "La suma total es: 55\n"
     ]
    }
   ],
   "source": [
    "def acumulador(n):\n",
    "    suma = 0\n",
    "    for i in range(1,n+1):\n",
    "        suma += i\n",
    "        print(i)\n",
    "    return suma\n",
    "\n",
    "cantidad = 10\n",
    "suma_total = acumulador(cantidad)\n",
    "print(f'La suma total es: {suma_total}')\n",
    "        "
   ]
  }
 ],
 "metadata": {
  "kernelspec": {
   "display_name": "Python 3",
   "language": "python",
   "name": "python3"
  },
  "language_info": {
   "codemirror_mode": {
    "name": "ipython",
    "version": 3
   },
   "file_extension": ".py",
   "mimetype": "text/x-python",
   "name": "python",
   "nbconvert_exporter": "python",
   "pygments_lexer": "ipython3",
   "version": "3.13.2"
  }
 },
 "nbformat": 4,
 "nbformat_minor": 5
}
