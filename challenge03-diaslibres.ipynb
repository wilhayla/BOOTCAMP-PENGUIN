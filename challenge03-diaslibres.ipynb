{
 "cells": [
  {
   "cell_type": "code",
   "execution_count": null,
   "id": "079c5d7f",
   "metadata": {},
   "outputs": [],
   "source": [
    "# crear una clase que se llame Animal\n",
    "\n",
    "    # crear un metodo constructor init que reciba como parametro nombre y edad.\n",
    "        # crear atributo de instancia nombre\n",
    "        # crear atributo de instancia edad\n",
    "    \n",
    "    # crear un metodo 'presentarse'\n",
    "        # imprimir en pantalla un mensaje '¡Hola! Soy {nombre} y tengo {edad} años. \n",
    "        \n",
    "# crear un objeto perro de la clase Animal(pasar el nombre y la edad)\n",
    "# con el objeto perro llamar al metodo 'presentarse'\n",
    "\n",
    "# crear un objeto gato de la clase Animal (pasar el nombre y la edad)\n",
    "# con el objeto gato llamar al metodo 'presentarse'\n",
    "\n",
    "        "
   ]
  },
  {
   "cell_type": "code",
   "execution_count": 1,
   "id": "842c7bb2",
   "metadata": {},
   "outputs": [
    {
     "name": "stdout",
     "output_type": "stream",
     "text": [
      "¡Hola! Soy mika y tengo 2 años.\n",
      "¡Hola! Soy fibi y tengo 3 años.\n"
     ]
    }
   ],
   "source": [
    "class Animal:\n",
    "    def __init__(self, nombre, edad):\n",
    "        self.nombre = nombre\n",
    "        self.edad = edad\n",
    "    \n",
    "    def presentarse(self):\n",
    "        print(f'¡Hola! Soy {self.nombre} y tengo {self.edad} años.')\n",
    "        \n",
    "# MAIN\n",
    "perro = Animal('mika', 2)\n",
    "perro.presentarse()\n",
    "\n",
    "gato = Animal('fibi', 3)\n",
    "gato.presentarse()\n",
    "        "
   ]
  }
 ],
 "metadata": {
  "kernelspec": {
   "display_name": "Python 3",
   "language": "python",
   "name": "python3"
  },
  "language_info": {
   "codemirror_mode": {
    "name": "ipython",
    "version": 3
   },
   "file_extension": ".py",
   "mimetype": "text/x-python",
   "name": "python",
   "nbconvert_exporter": "python",
   "pygments_lexer": "ipython3",
   "version": "3.13.2"
  }
 },
 "nbformat": 4,
 "nbformat_minor": 5
}
